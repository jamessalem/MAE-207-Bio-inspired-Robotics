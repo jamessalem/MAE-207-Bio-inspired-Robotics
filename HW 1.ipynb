{
 "cells": [
  {
   "cell_type": "markdown",
   "metadata": {},
   "source": [
    "MAE 207 - Bioinspired Robotics\n",
    "| HW 1\n",
    "| James Salem"
   ]
  },
  {
   "cell_type": "code",
   "execution_count": 169,
   "metadata": {},
   "outputs": [],
   "source": [
    "# symbolic computation tools\n",
    "import sympy\n",
    "from sympy import symbols, pprint\n",
    "from sympy import sin, cos, asin, acos, pi, sqrt\n",
    "from sympy import Matrix\n",
    "\n",
    "import numpy as np"
   ]
  },
  {
   "cell_type": "code",
   "execution_count": 170,
   "metadata": {},
   "outputs": [],
   "source": [
    "def T(theta, x, y):\n",
    "    \"\"\"\n",
    "    Function to return an arbitrary transformation matrix \n",
    "    This is for sympy symbolic calculation\n",
    "    \"\"\"\n",
    "    return Matrix([[cos(theta), -sin(theta), x], \n",
    "                   [sin(theta), cos(theta), y],\n",
    "                   [0, 0, 1]])\n",
    "\n",
    "def sym_to_np(T):\n",
    "    return np.array(T).astype(np.float64)"
   ]
  },
  {
   "cell_type": "markdown",
   "metadata": {},
   "source": [
    "Problem 1\n",
    "\n",
    "Compute the forward kinematics, solving for the foot position (x, y) as a function of\n",
    "motor angles, for both the serial and parallel leg configurations."
   ]
  },
  {
   "cell_type": "markdown",
   "metadata": {},
   "source": [
    "Serial Configuration"
   ]
  },
  {
   "cell_type": "markdown",
   "metadata": {},
   "source": [
    "<img src=\"MAE 207 HW1 Serial.png\">"
   ]
  },
  {
   "cell_type": "code",
   "execution_count": 171,
   "metadata": {},
   "outputs": [],
   "source": [
    "# Define symbols\n",
    "(theta1_sym, \n",
    " theta2_sym, \n",
    " link1_sym, \n",
    " link2_sym) = symbols(\"\"\"theta1_sym \n",
    "                         theta2_sym \n",
    "                         link1_sym \n",
    "                         link2_sym\"\"\" , real = True)"
   ]
  },
  {
   "cell_type": "code",
   "execution_count": 172,
   "metadata": {},
   "outputs": [
    {
     "name": "stdout",
     "output_type": "stream",
     "text": [
      "T_01 = \n",
      "⎡cos(θ_1_sym)  -sin(θ_1_sym)  0⎤\n",
      "⎢                              ⎥\n",
      "⎢sin(θ_1_sym)  cos(θ_1_sym)   0⎥\n",
      "⎢                              ⎥\n",
      "⎣     0              0        1⎦\n",
      "T_12 = \n",
      "⎡cos(θ_2_sym)  -sin(θ_2_sym)  link_1_sym⎤\n",
      "⎢                                       ⎥\n",
      "⎢sin(θ_2_sym)  cos(θ_2_sym)       0     ⎥\n",
      "⎢                                       ⎥\n",
      "⎣     0              0            1     ⎦\n"
     ]
    }
   ],
   "source": [
    "# Make Transormation matrices\n",
    "T_01 = T(theta1_sym, 0, 0)\n",
    "T_12 = T(theta2_sym, link1_sym, 0)\n",
    "print(\"T_01 = \")\n",
    "pprint(T_01)\n",
    "print(\"T_12 = \")\n",
    "pprint(T_12)"
   ]
  },
  {
   "cell_type": "code",
   "execution_count": 173,
   "metadata": {},
   "outputs": [
    {
     "name": "stdout",
     "output_type": "stream",
     "text": [
      "T_02 = \n",
      "⎡cos(θ_1_sym + θ_2_sym)  -sin(θ_1_sym + θ_2_sym)  link_1_sym⋅cos(θ_1_sym)⎤\n",
      "⎢                                                                        ⎥\n",
      "⎢sin(θ_1_sym + θ_2_sym)  cos(θ_1_sym + θ_2_sym)   link_1_sym⋅sin(θ_1_sym)⎥\n",
      "⎢                                                                        ⎥\n",
      "⎣          0                        0                        1           ⎦\n"
     ]
    }
   ],
   "source": [
    "# Multiply transformation matrices together\n",
    "T_02 = sympy.simplify(T_01*T_12)\n",
    "\n",
    "print(\"T_02 = \")\n",
    "pprint(T_02)"
   ]
  },
  {
   "cell_type": "code",
   "execution_count": 174,
   "metadata": {},
   "outputs": [
    {
     "name": "stdout",
     "output_type": "stream",
     "text": [
      "(x, y, 1) = \n",
      "⎡link_1_sym⋅cos(θ_1_sym) + link_2_sym⋅cos(θ_1_sym + θ_2_sym)⎤\n",
      "⎢                                                           ⎥\n",
      "⎢link_1_sym⋅sin(θ_1_sym) + link_2_sym⋅sin(θ_1_sym + θ_2_sym)⎥\n",
      "⎢                                                           ⎥\n",
      "⎣                             1                             ⎦\n"
     ]
    }
   ],
   "source": [
    "# Calculate position of foot in reference frame #0\n",
    "xy_pos = T_02 * Matrix([[link2_sym],[0],[1]])\n",
    "print(\"(x, y, 1) = \")\n",
    "pprint(xy_pos)"
   ]
  },
  {
   "cell_type": "code",
   "execution_count": 175,
   "metadata": {},
   "outputs": [
    {
     "name": "stdout",
     "output_type": "stream",
     "text": [
      "x = link1_sym*cos(theta1_sym) + link2_sym*cos(theta1_sym + theta2_sym)\n",
      "y = link1_sym*sin(theta1_sym) + link2_sym*sin(theta1_sym + theta2_sym)\n"
     ]
    }
   ],
   "source": [
    "x = xy_pos[0]\n",
    "print('x =', x)\n",
    "\n",
    "y = xy_pos[1]\n",
    "print('y =', y)"
   ]
  },
  {
   "cell_type": "markdown",
   "metadata": {},
   "source": [
    "Parallel Configuration"
   ]
  },
  {
   "cell_type": "markdown",
   "metadata": {},
   "source": [
    "<img src=\"MAE 207 HW1 Par.png\">"
   ]
  },
  {
   "cell_type": "code",
   "execution_count": 176,
   "metadata": {},
   "outputs": [
    {
     "name": "stdout",
     "output_type": "stream",
     "text": [
      "⎡   ⎛θ_1_sym   θ_2_sym⎞      ⎛θ_1_sym   θ_2_sym⎞   ⎤\n",
      "⎢cos⎜─────── + ───────⎟  -sin⎜─────── + ───────⎟  0⎥\n",
      "⎢   ⎝   2         2   ⎠      ⎝   2         2   ⎠   ⎥\n",
      "⎢                                                  ⎥\n",
      "⎢   ⎛θ_1_sym   θ_2_sym⎞     ⎛θ_1_sym   θ_2_sym⎞    ⎥\n",
      "⎢sin⎜─────── + ───────⎟  cos⎜─────── + ───────⎟   0⎥\n",
      "⎢   ⎝   2         2   ⎠     ⎝   2         2   ⎠    ⎥\n",
      "⎢                                                  ⎥\n",
      "⎣          0                        0             1⎦\n"
     ]
    }
   ],
   "source": [
    "# Make Transformation matrices\n",
    "T_01_par = T((theta2_sym + theta1_sym) / 2, 0, 0)\n",
    "pprint(T_01_par)"
   ]
  },
  {
   "cell_type": "code",
   "execution_count": 177,
   "metadata": {},
   "outputs": [],
   "source": [
    "# Calculate position of foot in reference frame #1\n",
    "y1 = 0\n",
    "h1 = link1_sym * cos((theta2_sym - theta1_sym) / 2)\n",
    "h2 = sqrt(link2_sym**2 - link1_sym**2 * sin((theta2_sym - theta1_sym) / 2)**2)\n",
    "x1 = h1 + h2"
   ]
  },
  {
   "cell_type": "code",
   "execution_count": 178,
   "metadata": {},
   "outputs": [
    {
     "name": "stdout",
     "output_type": "stream",
     "text": [
      "(x0, y0) = \n",
      "⎡⎛                                        ____________________________________\n",
      "⎢⎜              ⎛θ_1_sym   θ_2_sym⎞      ╱             2    2⎛θ_1_sym   θ_2_sy\n",
      "⎢⎜link_1_sym⋅cos⎜─────── - ───────⎟ +   ╱  - link_1_sym ⋅sin ⎜─────── - ──────\n",
      "⎢⎝              ⎝   2         2   ⎠   ╲╱                     ⎝   2         2  \n",
      "⎢                                                                             \n",
      "⎢⎛                                        ____________________________________\n",
      "⎢⎜              ⎛θ_1_sym   θ_2_sym⎞      ╱             2    2⎛θ_1_sym   θ_2_sy\n",
      "⎢⎜link_1_sym⋅cos⎜─────── - ───────⎟ +   ╱  - link_1_sym ⋅sin ⎜─────── - ──────\n",
      "⎣⎝              ⎝   2         2   ⎠   ╲╱                     ⎝   2         2  \n",
      "\n",
      "_________________⎞                       ⎤\n",
      "m⎞             2 ⎟    ⎛θ_1_sym   θ_2_sym⎞⎥\n",
      "─⎟ + link_2_sym  ⎟⋅cos⎜─────── + ───────⎟⎥\n",
      " ⎠               ⎠    ⎝   2         2   ⎠⎥\n",
      "                                         ⎥\n",
      "_________________⎞                       ⎥\n",
      "m⎞             2 ⎟    ⎛θ_1_sym   θ_2_sym⎞⎥\n",
      "─⎟ + link_2_sym  ⎟⋅sin⎜─────── + ───────⎟⎥\n",
      " ⎠               ⎠    ⎝   2         2   ⎠⎦\n"
     ]
    }
   ],
   "source": [
    "# Calculate position of foot in reference frame #0\n",
    "xy_pos_par = T_01_par * Matrix([[x1],[y1],[1]])\n",
    "print(\"(x0, y0) = \")\n",
    "pprint(xy_pos_par[:2,:])"
   ]
  },
  {
   "cell_type": "markdown",
   "metadata": {},
   "source": [
    "Problem 2 \n",
    "\n",
    "Compute the Jacobian for both the serial and parallel leg configurations."
   ]
  },
  {
   "cell_type": "markdown",
   "metadata": {},
   "source": [
    "Serial Configuration"
   ]
  },
  {
   "cell_type": "code",
   "execution_count": 179,
   "metadata": {},
   "outputs": [
    {
     "name": "stdout",
     "output_type": "stream",
     "text": [
      "Jacobian Matrix\n",
      "⎡-link_1_sym⋅sin(θ_1_sym) - link_2_sym⋅sin(θ_1_sym + θ_2_sym)  -link_2_sym⋅sin(θ_1_sym + θ_2_sym)⎤\n",
      "⎢                                                                                                ⎥\n",
      "⎣link_1_sym⋅cos(θ_1_sym) + link_2_sym⋅cos(θ_1_sym + θ_2_sym)   link_2_sym⋅cos(θ_1_sym + θ_2_sym) ⎦\n"
     ]
    }
   ],
   "source": [
    "# compute Jacobian for Serial Configuration\n",
    "J = xy_pos[:2,:].jacobian([theta1_sym, theta2_sym])\n",
    "print(\"Jacobian Matrix\")\n",
    "pprint(J, wrap_line = False)"
   ]
  },
  {
   "cell_type": "markdown",
   "metadata": {},
   "source": [
    "Parallel Configuration"
   ]
  },
  {
   "cell_type": "code",
   "execution_count": 180,
   "metadata": {},
   "outputs": [
    {
     "name": "stdout",
     "output_type": "stream",
     "text": [
      "Jacobian Matrix\n",
      "Matrix([[-(link1_sym*cos(theta1_sym/2 - theta2_sym/2) + sqrt(-link1_sym**2*sin(theta1_sym/2 - theta2_sym/2)**2 + link2_sym**2))*sin(theta1_sym/2 + theta2_sym/2)/2 + (-link1_sym**2*sin(theta1_sym/2 - theta2_sym/2)*cos(theta1_sym/2 - theta2_sym/2)/(2*sqrt(-link1_sym**2*sin(theta1_sym/2 - theta2_sym/2)**2 + link2_sym**2)) - link1_sym*sin(theta1_sym/2 - theta2_sym/2)/2)*cos(theta1_sym/2 + theta2_sym/2), -(link1_sym*cos(theta1_sym/2 - theta2_sym/2) + sqrt(-link1_sym**2*sin(theta1_sym/2 - theta2_sym/2)**2 + link2_sym**2))*sin(theta1_sym/2 + theta2_sym/2)/2 + (link1_sym**2*sin(theta1_sym/2 - theta2_sym/2)*cos(theta1_sym/2 - theta2_sym/2)/(2*sqrt(-link1_sym**2*sin(theta1_sym/2 - theta2_sym/2)**2 + link2_sym**2)) + link1_sym*sin(theta1_sym/2 - theta2_sym/2)/2)*cos(theta1_sym/2 + theta2_sym/2)], [(link1_sym*cos(theta1_sym/2 - theta2_sym/2) + sqrt(-link1_sym**2*sin(theta1_sym/2 - theta2_sym/2)**2 + link2_sym**2))*cos(theta1_sym/2 + theta2_sym/2)/2 + (-link1_sym**2*sin(theta1_sym/2 - theta2_sym/2)*cos(theta1_sym/2 - theta2_sym/2)/(2*sqrt(-link1_sym**2*sin(theta1_sym/2 - theta2_sym/2)**2 + link2_sym**2)) - link1_sym*sin(theta1_sym/2 - theta2_sym/2)/2)*sin(theta1_sym/2 + theta2_sym/2), (link1_sym*cos(theta1_sym/2 - theta2_sym/2) + sqrt(-link1_sym**2*sin(theta1_sym/2 - theta2_sym/2)**2 + link2_sym**2))*cos(theta1_sym/2 + theta2_sym/2)/2 + (link1_sym**2*sin(theta1_sym/2 - theta2_sym/2)*cos(theta1_sym/2 - theta2_sym/2)/(2*sqrt(-link1_sym**2*sin(theta1_sym/2 - theta2_sym/2)**2 + link2_sym**2)) + link1_sym*sin(theta1_sym/2 - theta2_sym/2)/2)*sin(theta1_sym/2 + theta2_sym/2)]])\n"
     ]
    }
   ],
   "source": [
    "# compute Jacobian for Parallel Configuration\n",
    "J_par = xy_pos_par[:2,:].jacobian([theta1_sym, theta2_sym])\n",
    "print(\"Jacobian Matrix\")\n",
    "print(J_par)"
   ]
  },
  {
   "cell_type": "code",
   "execution_count": 181,
   "metadata": {},
   "outputs": [
    {
     "name": "stdout",
     "output_type": "stream",
     "text": [
      "(2, 2)\n"
     ]
    }
   ],
   "source": [
    "print(J_par.shape)"
   ]
  },
  {
   "cell_type": "markdown",
   "metadata": {},
   "source": [
    "Problem 3\n",
    "\n",
    "Compute the motor torques required for the robot to stand in place in the configurations\n",
    "given in the table below. Assume each leg is supporting 1.5 kg."
   ]
  },
  {
   "cell_type": "code",
   "execution_count": 182,
   "metadata": {},
   "outputs": [],
   "source": [
    "# Force vector\n",
    "F = np.array([[0, 1.5 * 9.8]]).T"
   ]
  },
  {
   "cell_type": "markdown",
   "metadata": {},
   "source": [
    "Serial Configuration : l1 = 10cm, l2 = 10cm, theta1 = 135 degrees, theta2 = 270 degrees"
   ]
  },
  {
   "cell_type": "code",
   "execution_count": 183,
   "metadata": {},
   "outputs": [],
   "source": [
    "# Values to plug in\n",
    "l1 = 0.1\n",
    "l2 = 0.1\n",
    "theta1 = 135*np.pi/180\n",
    "theta2 = 270*np.pi/180"
   ]
  },
  {
   "cell_type": "code",
   "execution_count": 184,
   "metadata": {},
   "outputs": [],
   "source": [
    "# Plug in values into Jacobian\n",
    "J_real = sym_to_np(J.subs([(theta1_sym, theta1),(theta2_sym, theta2), (link1_sym, l1), (link2_sym, l2)]))"
   ]
  },
  {
   "cell_type": "code",
   "execution_count": 185,
   "metadata": {},
   "outputs": [
    {
     "name": "stdout",
     "output_type": "stream",
     "text": [
      "Torque(N*m) Motor 1: [2.04003481e-16]\n",
      "Torque(N*m) Motor 2: [1.03944697]\n"
     ]
    }
   ],
   "source": [
    "# calculate Torque required to apply force, F\n",
    "Torque = J_real.T @ F\n",
    "\n",
    "print(\"Torque(N*m) Motor 1:\", Torque[0])\n",
    "print(\"Torque(N*m) Motor 2:\", Torque[1])"
   ]
  },
  {
   "cell_type": "markdown",
   "metadata": {},
   "source": [
    "Parallel Configuration: l1 = 10cm, l2 = 10cm, theta1 = 45 degrees, theta2 = 135 degrees"
   ]
  },
  {
   "cell_type": "code",
   "execution_count": 186,
   "metadata": {},
   "outputs": [],
   "source": [
    "# Values to plug in\n",
    "l1 = 0.1\n",
    "l2 = 0.1\n",
    "theta1 = 45*np.pi/180\n",
    "theta2 = 135*np.pi/180"
   ]
  },
  {
   "cell_type": "code",
   "execution_count": 187,
   "metadata": {},
   "outputs": [],
   "source": [
    "# Plug in values into Jacobian\n",
    "J_real_par = sym_to_np(J_par.subs([(theta1_sym, theta1),(theta2_sym, theta2), (link1_sym, l1), (link2_sym, l2)]))"
   ]
  },
  {
   "cell_type": "code",
   "execution_count": 188,
   "metadata": {},
   "outputs": [
    {
     "name": "stdout",
     "output_type": "stream",
     "text": [
      "Torque(N*m) Motor 1: [1.03944697]\n",
      "Torque(N*m) Motor 2: [-1.03944697]\n"
     ]
    }
   ],
   "source": [
    "# calculate Torque required to apply force, F\n",
    "Torque_par = J_real_par.T @ F\n",
    "\n",
    "print(\"Torque(N*m) Motor 1:\", Torque_par[0])\n",
    "print(\"Torque(N*m) Motor 2:\", Torque_par[1])"
   ]
  }
 ],
 "metadata": {
  "kernelspec": {
   "display_name": "Python 3",
   "language": "python",
   "name": "python3"
  },
  "language_info": {
   "codemirror_mode": {
    "name": "ipython",
    "version": 3
   },
   "file_extension": ".py",
   "mimetype": "text/x-python",
   "name": "python",
   "nbconvert_exporter": "python",
   "pygments_lexer": "ipython3",
   "version": "3.6.4"
  }
 },
 "nbformat": 4,
 "nbformat_minor": 2
}
